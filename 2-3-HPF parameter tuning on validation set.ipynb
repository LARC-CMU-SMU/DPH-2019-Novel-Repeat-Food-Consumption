{
 "cells": [
  {
   "cell_type": "code",
   "execution_count": null,
   "metadata": {},
   "outputs": [],
   "source": [
    "import datetime\n",
    "import os\n",
    "\n",
    "import pandas as pd\n",
    "\n",
    "from src.config import DATA_DIR, MODEL_DIR, PARAM_DIR\n",
    "from src.recommendation.HPF import train_hpf_model, model_type\n",
    "from src.recommendation.all_evaluation import _results\n",
    "from src.recommendation.evaluation import evaluate\n",
    "from src.recommendation.mixture_functions import get_train\n",
    "from src.util.data_io import get_hpf_dataset\n",
    "from src.util.eval_measures import eval_lst\n",
    "from src.util.io import save_pickle\n",
    "\n",
    "train_model, model_type = train_hpf_model, model_type\n"
   ]
  },
  {
   "cell_type": "code",
   "execution_count": 3,
   "metadata": {},
   "outputs": [
    {
     "data": {
      "text/plain": [
       "'hpf_model'"
      ]
     },
     "execution_count": 3,
     "metadata": {},
     "output_type": "execute_result"
    }
   ],
   "source": [
    "model_type\n"
   ]
  },
  {
   "cell_type": "code",
   "execution_count": 4,
   "metadata": {},
   "outputs": [],
   "source": [
    "data_dir = os.path.join(DATA_DIR, 'day')\n",
    "results_dir = os.path.join(MODEL_DIR, 'tuning')\n"
   ]
  },
  {
   "cell_type": "code",
   "execution_count": 5,
   "metadata": {},
   "outputs": [
    {
     "name": "stdout",
     "output_type": "stream",
     "text": [
      "[['recall', [5]], ['precision', [5]], ['nDCG', [5]]]\n"
     ]
    }
   ],
   "source": [
    "print (eval_lst)\n"
   ]
  },
  {
   "cell_type": "code",
   "execution_count": 6,
   "metadata": {},
   "outputs": [],
   "source": [
    "# subset Jan 20 - 22, 2015\n",
    "datasets = ['120', '121', '122']\n"
   ]
  },
  {
   "cell_type": "code",
   "execution_count": 7,
   "metadata": {},
   "outputs": [],
   "source": [
    "k_vals = [5, 10, 50, 100, 500]\n"
   ]
  },
  {
   "cell_type": "code",
   "execution_count": 8,
   "metadata": {},
   "outputs": [],
   "source": [
    "overwrite = False\n",
    "save_multinomials = True\n",
    "\n",
    "\n",
    "def hours_minutes_seconds(td):\n",
    "    return '{:02}:{:02}:{:02}'.format(td.seconds // 3600, (td.seconds // 60) % 60, td.seconds % 60)\n"
   ]
  },
  {
   "cell_type": "code",
   "execution_count": 13,
   "metadata": {},
   "outputs": [],
   "source": [
    "def eval_dataset(dataset, k_vals):\n",
    "    result_dic = {}\n",
    "\n",
    "    for n_components in k_vals:\n",
    "        print(n_components)\n",
    "        train, val, test = get_hpf_dataset(dataset, data_dir)\n",
    "        start_time = datetime.datetime.now()\n",
    "        all_multinomials = train_model(train, val, test, results_dir,\n",
    "                                       dataset, overwrite=False, save_multinomials=True,\n",
    "                                       n_components=n_components, top_n=10)\n",
    "        end_time = datetime.datetime.now()\n",
    "        time_used = hours_minutes_seconds(end_time - start_time)\n",
    "        print('time_used', time_used)\n",
    "        dataset, eval_result = _results(dataset, eval_lst, val.values, all_multinomials)\n",
    "        eval_result.append(['time_used', time_used])\n",
    "        result_dic.update({n_components: eval_result})\n",
    "\n",
    "    df = pd.DataFrame(result_dic).T\n",
    "    df.columns = [item for sublist in list(result_dic.values())[0] for item in sublist[:1]]\n",
    "    for col in df.columns:\n",
    "        df[col] = df[col].apply(lambda s: s[1])\n",
    "\n",
    "    return df\n",
    "\n"
   ]
  },
  {
   "cell_type": "code",
   "execution_count": 14,
   "metadata": {
    "scrolled": true
   },
   "outputs": [
    {
     "name": "stdout",
     "output_type": "stream",
     "text": [
      "5\n",
      "2019-10-22 17:38:17,877 INFO --> Loading data for 120\n",
      "time_used 00:00:03\n",
      "recall@5: 0.04903\n",
      "precision@5: 0.05507\n",
      "nDCG@5: 0.07063\n",
      "10\n",
      "2019-10-22 17:38:59,098 INFO --> Loading data for 120\n",
      "**********************************\n",
      "Hierarchical Poisson Factorization\n",
      "**********************************\n",
      "\n",
      "Number of users: 3432\n",
      "Number of items: 29474\n",
      "Latent factors to use: 10\n",
      "\n",
      "Initializing parameters...\n",
      "Allocating Phi matrix...\n",
      "Initializing optimization procedure...\n"
     ]
    },
    {
     "name": "stderr",
     "output_type": "stream",
     "text": [
      "/home/yueliu/anaconda3/lib/python3.6/site-packages/hpfrec/__init__.py:539: UserWarning: 'val_set' contains observations with a count value less than 1, these will be ignored.\n",
      "  warnings.warn(msg)\n"
     ]
    },
    {
     "name": "stdout",
     "output_type": "stream",
     "text": [
      "Iteration 10 | val llk: -102856 | val rmse: 0.9649\n",
      "Iteration 20 | val llk: -101928 | val rmse: 0.9644\n",
      "Iteration 30 | val llk: -101602 | val rmse: 0.9642\n",
      "Iteration 40 | val llk: -101500 | val rmse: 0.9641\n",
      "Iteration 50 | val llk: -101438 | val rmse: 0.9641\n",
      "\n",
      "\n",
      "Optimization finished\n",
      "Final log-likelihood: -101438\n",
      "Final RMSE: 0.9641\n",
      "Minutes taken (optimization part): 0.1\n",
      "\n",
      "time_used 00:06:09\n",
      "recall@5: 0.05086\n",
      "precision@5: 0.05647\n",
      "nDCG@5: 0.07311\n",
      "50\n",
      "2019-10-22 17:45:45,184 INFO --> Loading data for 120\n",
      "**********************************\n",
      "Hierarchical Poisson Factorization\n",
      "**********************************\n",
      "\n",
      "Number of users: 3432\n",
      "Number of items: 29474\n",
      "Latent factors to use: 50\n",
      "\n",
      "Initializing parameters...\n"
     ]
    },
    {
     "name": "stderr",
     "output_type": "stream",
     "text": [
      "/home/yueliu/anaconda3/lib/python3.6/site-packages/hpfrec/__init__.py:539: UserWarning: 'val_set' contains observations with a count value less than 1, these will be ignored.\n",
      "  warnings.warn(msg)\n"
     ]
    },
    {
     "name": "stdout",
     "output_type": "stream",
     "text": [
      "Allocating Phi matrix...\n",
      "Initializing optimization procedure...\n",
      "Iteration 10 | val llk: -93986 | val rmse: 1.0031\n",
      "Iteration 20 | val llk: -92832 | val rmse: 1.0581\n",
      "Iteration 30 | val llk: -92714 | val rmse: 1.0996\n",
      "Iteration 40 | val llk: -92665 | val rmse: 1.1131\n",
      "\n",
      "\n",
      "Optimization finished\n",
      "Final log-likelihood: -92665\n",
      "Final RMSE: 1.1131\n",
      "Minutes taken (optimization part): 0.4\n",
      "\n",
      "time_used 00:05:47\n",
      "recall@5: 0.06694\n",
      "precision@5: 0.07512\n",
      "nDCG@5: 0.09899\n",
      "100\n",
      "2019-10-22 17:52:09,788 INFO --> Loading data for 120\n",
      "**********************************\n",
      "Hierarchical Poisson Factorization\n",
      "**********************************\n",
      "\n",
      "Number of users: 3432\n",
      "Number of items: 29474\n",
      "Latent factors to use: 100\n",
      "\n",
      "Initializing parameters...\n"
     ]
    },
    {
     "name": "stderr",
     "output_type": "stream",
     "text": [
      "/home/yueliu/anaconda3/lib/python3.6/site-packages/hpfrec/__init__.py:539: UserWarning: 'val_set' contains observations with a count value less than 1, these will be ignored.\n",
      "  warnings.warn(msg)\n"
     ]
    },
    {
     "name": "stdout",
     "output_type": "stream",
     "text": [
      "Allocating Phi matrix...\n",
      "Initializing optimization procedure...\n",
      "Iteration 10 | val llk: -89976 | val rmse: 1.0294\n",
      "Iteration 20 | val llk: -89373 | val rmse: 1.1345\n",
      "Iteration 30 | val llk: -89504 | val rmse: 1.1665\n",
      "\n",
      "\n",
      "Optimization finished\n",
      "Final log-likelihood: -89504\n",
      "Final RMSE: 1.1665\n",
      "Minutes taken (optimization part): 0.4\n",
      "\n",
      "time_used 00:05:46\n",
      "recall@5: 0.08155\n",
      "precision@5: 0.09062\n",
      "nDCG@5: 0.11894\n",
      "500\n",
      "2019-10-22 17:58:32,984 INFO --> Loading data for 120\n",
      "**********************************\n",
      "Hierarchical Poisson Factorization\n",
      "**********************************\n",
      "\n",
      "Number of users: 3432\n",
      "Number of items: 29474\n",
      "Latent factors to use: 500\n",
      "\n",
      "Initializing parameters...\n"
     ]
    },
    {
     "name": "stderr",
     "output_type": "stream",
     "text": [
      "/home/yueliu/anaconda3/lib/python3.6/site-packages/hpfrec/__init__.py:539: UserWarning: 'val_set' contains observations with a count value less than 1, these will be ignored.\n",
      "  warnings.warn(msg)\n"
     ]
    },
    {
     "name": "stdout",
     "output_type": "stream",
     "text": [
      "Allocating Phi matrix...\n",
      "Initializing optimization procedure...\n",
      "Iteration 10 | val llk: -81360 | val rmse: 1.2401\n",
      "Iteration 20 | val llk: -81868 | val rmse: 1.2640\n",
      "\n",
      "\n",
      "Optimization finished\n",
      "Final log-likelihood: -81868\n",
      "Final RMSE: 1.2640\n",
      "Minutes taken (optimization part): 0.8\n",
      "\n",
      "time_used 00:05:11\n",
      "recall@5: 0.09969\n",
      "precision@5: 0.11259\n",
      "nDCG@5: 0.15027\n",
      "5\n",
      "2019-10-22 18:04:21,898 INFO --> Loading data for 121\n",
      "**********************************\n",
      "Hierarchical Poisson Factorization\n",
      "**********************************\n",
      "\n",
      "Number of users: 3641\n",
      "Number of items: 30195\n",
      "Latent factors to use: 5\n",
      "\n",
      "Initializing parameters...\n",
      "Allocating Phi matrix...\n",
      "Initializing optimization procedure...\n"
     ]
    },
    {
     "name": "stderr",
     "output_type": "stream",
     "text": [
      "/home/yueliu/anaconda3/lib/python3.6/site-packages/hpfrec/__init__.py:539: UserWarning: 'val_set' contains observations with a count value less than 1, these will be ignored.\n",
      "  warnings.warn(msg)\n"
     ]
    },
    {
     "name": "stdout",
     "output_type": "stream",
     "text": [
      "Iteration 10 | val llk: -118464 | val rmse: 0.9676\n",
      "Iteration 20 | val llk: -117897 | val rmse: 0.9672\n",
      "Iteration 30 | val llk: -117675 | val rmse: 0.9672\n",
      "Iteration 40 | val llk: -117627 | val rmse: 0.9673\n",
      "\n",
      "\n",
      "Optimization finished\n",
      "Final log-likelihood: -117627\n",
      "Final RMSE: 0.9673\n",
      "Minutes taken (optimization part): 0.1\n",
      "\n",
      "time_used 00:04:04\n",
      "recall@5: 0.04959\n",
      "precision@5: 0.05581\n",
      "nDCG@5: 0.07323\n",
      "10\n",
      "2019-10-22 18:09:07,519 INFO --> Loading data for 121\n",
      "**********************************\n",
      "Hierarchical Poisson Factorization\n",
      "**********************************\n",
      "\n",
      "Number of users: 3641\n",
      "Number of items: 30195\n",
      "Latent factors to use: 10\n",
      "\n",
      "Initializing parameters...\n",
      "Allocating Phi matrix...\n",
      "Initializing optimization procedure...\n"
     ]
    },
    {
     "name": "stderr",
     "output_type": "stream",
     "text": [
      "/home/yueliu/anaconda3/lib/python3.6/site-packages/hpfrec/__init__.py:539: UserWarning: 'val_set' contains observations with a count value less than 1, these will be ignored.\n",
      "  warnings.warn(msg)\n"
     ]
    },
    {
     "name": "stdout",
     "output_type": "stream",
     "text": [
      "Iteration 10 | val llk: -114798 | val rmse: 0.9709\n",
      "Iteration 20 | val llk: -113752 | val rmse: 0.9753\n",
      "Iteration 30 | val llk: -113430 | val rmse: 0.9776\n",
      "Iteration 40 | val llk: -113329 | val rmse: 0.9791\n",
      "\n",
      "\n",
      "Optimization finished\n",
      "Final log-likelihood: -113329\n",
      "Final RMSE: 0.9791\n",
      "Minutes taken (optimization part): 0.1\n",
      "\n",
      "time_used 00:04:16\n",
      "recall@5: 0.05243\n",
      "precision@5: 0.05932\n",
      "nDCG@5: 0.07750\n",
      "50\n",
      "2019-10-22 18:14:03,222 INFO --> Loading data for 121\n",
      "**********************************\n",
      "Hierarchical Poisson Factorization\n",
      "**********************************\n",
      "\n",
      "Number of users: 3641\n",
      "Number of items: 30195\n",
      "Latent factors to use: 50\n",
      "\n",
      "Initializing parameters...\n"
     ]
    },
    {
     "name": "stderr",
     "output_type": "stream",
     "text": [
      "/home/yueliu/anaconda3/lib/python3.6/site-packages/hpfrec/__init__.py:539: UserWarning: 'val_set' contains observations with a count value less than 1, these will be ignored.\n",
      "  warnings.warn(msg)\n"
     ]
    },
    {
     "name": "stdout",
     "output_type": "stream",
     "text": [
      "Allocating Phi matrix...\n",
      "Initializing optimization procedure...\n",
      "Iteration 10 | val llk: -104641 | val rmse: 0.9830\n",
      "Iteration 20 | val llk: -103173 | val rmse: 1.0116\n",
      "Iteration 30 | val llk: -102910 | val rmse: 1.0332\n",
      "Iteration 40 | val llk: -102878 | val rmse: 1.0576\n",
      "\n",
      "\n",
      "Optimization finished\n",
      "Final log-likelihood: -102878\n",
      "Final RMSE: 1.0576\n",
      "Minutes taken (optimization part): 0.3\n",
      "\n",
      "time_used 00:05:09\n",
      "recall@5: 0.06778\n",
      "precision@5: 0.07696\n",
      "nDCG@5: 0.10014\n",
      "100\n",
      "2019-10-22 18:19:52,553 INFO --> Loading data for 121\n",
      "**********************************\n",
      "Hierarchical Poisson Factorization\n",
      "**********************************\n",
      "\n",
      "Number of users: 3641\n",
      "Number of items: 30195\n",
      "Latent factors to use: 100\n",
      "\n",
      "Initializing parameters...\n"
     ]
    },
    {
     "name": "stderr",
     "output_type": "stream",
     "text": [
      "/home/yueliu/anaconda3/lib/python3.6/site-packages/hpfrec/__init__.py:539: UserWarning: 'val_set' contains observations with a count value less than 1, these will be ignored.\n",
      "  warnings.warn(msg)\n"
     ]
    },
    {
     "name": "stdout",
     "output_type": "stream",
     "text": [
      "Allocating Phi matrix...\n",
      "Initializing optimization procedure...\n",
      "Iteration 10 | val llk: -100273 | val rmse: 1.0116\n",
      "Iteration 20 | val llk: -99399 | val rmse: 1.1155\n",
      "Iteration 30 | val llk: -99533 | val rmse: 1.1614\n",
      "\n",
      "\n",
      "Optimization finished\n",
      "Final log-likelihood: -99533\n",
      "Final RMSE: 1.1614\n",
      "Minutes taken (optimization part): 0.4\n",
      "\n",
      "time_used 00:04:45\n",
      "recall@5: 0.08937\n",
      "precision@5: 0.10426\n",
      "nDCG@5: 0.13334\n",
      "500\n",
      "2019-10-22 18:25:19,766 INFO --> Loading data for 121\n",
      "**********************************\n",
      "Hierarchical Poisson Factorization\n",
      "**********************************\n",
      "\n",
      "Number of users: 3641\n",
      "Number of items: 30195\n",
      "Latent factors to use: 500\n",
      "\n",
      "Initializing parameters...\n"
     ]
    },
    {
     "name": "stderr",
     "output_type": "stream",
     "text": [
      "/home/yueliu/anaconda3/lib/python3.6/site-packages/hpfrec/__init__.py:539: UserWarning: 'val_set' contains observations with a count value less than 1, these will be ignored.\n",
      "  warnings.warn(msg)\n"
     ]
    },
    {
     "name": "stdout",
     "output_type": "stream",
     "text": [
      "Allocating Phi matrix...\n",
      "Initializing optimization procedure...\n",
      "Iteration 10 | val llk: -90386 | val rmse: 1.0888\n",
      "Iteration 20 | val llk: -91086 | val rmse: 1.1760\n",
      "\n",
      "\n",
      "Optimization finished\n",
      "Final log-likelihood: -91086\n",
      "Final RMSE: 1.1760\n",
      "Minutes taken (optimization part): 0.7\n",
      "\n",
      "time_used 00:04:51\n",
      "recall@5: 0.10102\n",
      "precision@5: 0.11903\n",
      "nDCG@5: 0.15303\n",
      "5\n",
      "2019-10-22 18:30:51,317 INFO --> Loading data for 122\n",
      "**********************************\n",
      "Hierarchical Poisson Factorization\n",
      "**********************************\n",
      "\n",
      "Number of users: 3591\n",
      "Number of items: 30106\n",
      "Latent factors to use: 5\n",
      "\n",
      "Initializing parameters...\n",
      "Allocating Phi matrix...\n",
      "Initializing optimization procedure...\n"
     ]
    },
    {
     "name": "stderr",
     "output_type": "stream",
     "text": [
      "/home/yueliu/anaconda3/lib/python3.6/site-packages/hpfrec/__init__.py:539: UserWarning: 'val_set' contains observations with a count value less than 1, these will be ignored.\n",
      "  warnings.warn(msg)\n"
     ]
    },
    {
     "name": "stdout",
     "output_type": "stream",
     "text": [
      "Iteration 10 | val llk: -116322 | val rmse: 0.9651\n",
      "Iteration 20 | val llk: -115604 | val rmse: 0.9647\n",
      "Iteration 30 | val llk: -115428 | val rmse: 0.9646\n",
      "Iteration 40 | val llk: -115375 | val rmse: 0.9645\n",
      "\n",
      "\n",
      "Optimization finished\n",
      "Final log-likelihood: -115375\n",
      "Final RMSE: 0.9645\n",
      "Minutes taken (optimization part): 0.1\n",
      "\n",
      "time_used 00:03:52\n",
      "recall@5: 0.05094\n",
      "precision@5: 0.05803\n",
      "nDCG@5: 0.07483\n",
      "10\n",
      "2019-10-22 18:35:22,336 INFO --> Loading data for 122\n",
      "**********************************\n",
      "Hierarchical Poisson Factorization\n",
      "**********************************\n",
      "\n",
      "Number of users: 3591\n",
      "Number of items: 30106\n",
      "Latent factors to use: 10\n",
      "\n",
      "Initializing parameters...\n",
      "Allocating Phi matrix...\n",
      "Initializing optimization procedure...\n"
     ]
    },
    {
     "name": "stderr",
     "output_type": "stream",
     "text": [
      "/home/yueliu/anaconda3/lib/python3.6/site-packages/hpfrec/__init__.py:539: UserWarning: 'val_set' contains observations with a count value less than 1, these will be ignored.\n",
      "  warnings.warn(msg)\n"
     ]
    },
    {
     "name": "stdout",
     "output_type": "stream",
     "text": [
      "Iteration 10 | val llk: -112782 | val rmse: 0.9739\n",
      "Iteration 20 | val llk: -111599 | val rmse: 0.9871\n",
      "Iteration 30 | val llk: -111231 | val rmse: 0.9979\n",
      "Iteration 40 | val llk: -111130 | val rmse: 1.0061\n",
      "\n",
      "\n",
      "Optimization finished\n",
      "Final log-likelihood: -111130\n",
      "Final RMSE: 1.0061\n",
      "Minutes taken (optimization part): 0.1\n",
      "\n",
      "time_used 00:03:53\n",
      "recall@5: 0.05508\n",
      "precision@5: 0.06321\n",
      "nDCG@5: 0.08271\n",
      "50\n",
      "2019-10-22 18:39:56,541 INFO --> Loading data for 122\n",
      "**********************************\n",
      "Hierarchical Poisson Factorization\n",
      "**********************************\n",
      "\n",
      "Number of users: 3591\n",
      "Number of items: 30106\n",
      "Latent factors to use: 50\n",
      "\n",
      "Initializing parameters...\n"
     ]
    },
    {
     "name": "stderr",
     "output_type": "stream",
     "text": [
      "/home/yueliu/anaconda3/lib/python3.6/site-packages/hpfrec/__init__.py:539: UserWarning: 'val_set' contains observations with a count value less than 1, these will be ignored.\n",
      "  warnings.warn(msg)\n"
     ]
    },
    {
     "name": "stdout",
     "output_type": "stream",
     "text": [
      "Allocating Phi matrix...\n",
      "Initializing optimization procedure...\n",
      "Iteration 10 | val llk: -102459 | val rmse: 0.9774\n",
      "Iteration 20 | val llk: -100989 | val rmse: 1.0128\n",
      "Iteration 30 | val llk: -100785 | val rmse: 1.0515\n",
      "Iteration 40 | val llk: -100748 | val rmse: 1.0814\n",
      "\n",
      "\n",
      "Optimization finished\n",
      "Final log-likelihood: -100748\n",
      "Final RMSE: 1.0814\n",
      "Minutes taken (optimization part): 0.3\n",
      "\n",
      "time_used 00:04:18\n",
      "recall@5: 0.07307\n",
      "precision@5: 0.08248\n",
      "nDCG@5: 0.10925\n",
      "100\n",
      "2019-10-22 18:44:55,598 INFO --> Loading data for 122\n",
      "**********************************\n",
      "Hierarchical Poisson Factorization\n",
      "**********************************\n",
      "\n",
      "Number of users: 3591\n",
      "Number of items: 30106\n",
      "Latent factors to use: 100\n",
      "\n",
      "Initializing parameters...\n"
     ]
    },
    {
     "name": "stderr",
     "output_type": "stream",
     "text": [
      "/home/yueliu/anaconda3/lib/python3.6/site-packages/hpfrec/__init__.py:539: UserWarning: 'val_set' contains observations with a count value less than 1, these will be ignored.\n",
      "  warnings.warn(msg)\n"
     ]
    },
    {
     "name": "stdout",
     "output_type": "stream",
     "text": [
      "Allocating Phi matrix...\n",
      "Initializing optimization procedure...\n",
      "Iteration 10 | val llk: -98448 | val rmse: 1.0398\n",
      "Iteration 20 | val llk: -97545 | val rmse: 1.1141\n",
      "Iteration 30 | val llk: -97615 | val rmse: 1.1400\n",
      "\n",
      "\n",
      "Optimization finished\n",
      "Final log-likelihood: -97615\n",
      "Final RMSE: 1.1400\n",
      "Minutes taken (optimization part): 0.3\n",
      "\n",
      "time_used 00:04:16\n",
      "recall@5: 0.08746\n",
      "precision@5: 0.10114\n",
      "nDCG@5: 0.12982\n",
      "500\n",
      "2019-10-22 18:49:52,681 INFO --> Loading data for 122\n",
      "**********************************\n",
      "Hierarchical Poisson Factorization\n",
      "**********************************\n",
      "\n",
      "Number of users: 3591\n",
      "Number of items: 30106\n",
      "Latent factors to use: 500\n",
      "\n",
      "Initializing parameters...\n"
     ]
    },
    {
     "name": "stderr",
     "output_type": "stream",
     "text": [
      "/home/yueliu/anaconda3/lib/python3.6/site-packages/hpfrec/__init__.py:539: UserWarning: 'val_set' contains observations with a count value less than 1, these will be ignored.\n",
      "  warnings.warn(msg)\n"
     ]
    },
    {
     "name": "stdout",
     "output_type": "stream",
     "text": [
      "Allocating Phi matrix...\n",
      "Initializing optimization procedure...\n",
      "Iteration 10 | val llk: -89140 | val rmse: 1.2012\n",
      "Iteration 20 | val llk: -89676 | val rmse: 1.2427\n",
      "\n",
      "\n",
      "Optimization finished\n",
      "Final log-likelihood: -89676\n",
      "Final RMSE: 1.2427\n",
      "Minutes taken (optimization part): 0.7\n",
      "\n",
      "time_used 00:05:03\n",
      "recall@5: 0.10674\n",
      "precision@5: 0.12671\n",
      "nDCG@5: 0.16704\n"
     ]
    }
   ],
   "source": [
    "dfs = dict()\n",
    "for dataset in datasets:\n",
    "    dataset = str(dataset)\n",
    "    df = eval_dataset(dataset, k_vals)\n",
    "    dfs.update({dataset: df})\n"
   ]
  },
  {
   "cell_type": "code",
   "execution_count": 15,
   "metadata": {},
   "outputs": [
    {
     "data": {
      "text/plain": [
       "['recall@5', 'precision@5', 'nDCG@5', 'time_used']"
      ]
     },
     "execution_count": 15,
     "metadata": {},
     "output_type": "execute_result"
    }
   ],
   "source": [
    "eval_measure = df.columns.tolist()\n",
    "eval_measure\n"
   ]
  },
  {
   "cell_type": "code",
   "execution_count": 16,
   "metadata": {},
   "outputs": [],
   "source": [
    "def plot_metric(col):\n",
    "    try:\n",
    "        df_plot = pd.DataFrame({c: df[col] for c, df in dfs.items()})\n",
    "        df_plot.plot(logx=True, xticks=k_vals, title=col.upper() + ' for different k')\n",
    "    except:\n",
    "        # time is not numeric value\n",
    "        return df_plot\n"
   ]
  },
  {
   "cell_type": "code",
   "execution_count": 17,
   "metadata": {},
   "outputs": [
    {
     "name": "stdout",
     "output_type": "stream",
     "text": [
      "120\n",
      "500\n",
      "121\n",
      "500\n",
      "122\n",
      "500\n"
     ]
    }
   ],
   "source": [
    "for k, df in dfs.items():\n",
    "    print(k)\n",
    "    print(df['nDCG@5'].idxmax())\n"
   ]
  },
  {
   "cell_type": "code",
   "execution_count": 18,
   "metadata": {
    "scrolled": false
   },
   "outputs": [
    {
     "name": "stdout",
     "output_type": "stream",
     "text": [
      "          120       121       122\n",
      "5    00:00:03  00:04:04  00:03:52\n",
      "10   00:06:09  00:04:16  00:03:53\n",
      "50   00:05:47  00:05:09  00:04:18\n",
      "100  00:05:46  00:04:45  00:04:16\n",
      "500  00:05:11  00:04:51  00:05:03\n"
     ]
    },
    {
     "data": {
      "image/png": "[encoded data removed]",
      "text/plain": [
       "<Figure size 432x288 with 1 Axes>"
      ]
     },
     "metadata": {
      "needs_background": "light"
     },
     "output_type": "display_data"
    },
    {
     "data": {
      "image/png": "[encoded data removed]",
      "text/plain": [
       "<Figure size 432x288 with 1 Axes>"
      ]
     },
     "metadata": {
      "needs_background": "light"
     },
     "output_type": "display_data"
    },
    {
     "data": {
      "image/png": "[encoded data removed]",
      "text/plain": [
       "<Figure size 432x288 with 1 Axes>"
      ]
     },
     "metadata": {
      "needs_background": "light"
     },
     "output_type": "display_data"
    }
   ],
   "source": [
    "for col in eval_measure:\n",
    "    df_time = plot_metric(col)\n",
    "print (df_time)\n"
   ]
  },
  {
   "cell_type": "code",
   "execution_count": 20,
   "metadata": {},
   "outputs": [],
   "source": [
    "save_pickle(os.path.join(PARAM_DIR, model_type), 500, False)\n"
   ]
  },
  {
   "cell_type": "code",
   "execution_count": null,
   "metadata": {},
   "outputs": [],
   "source": []
  }
 ],
 "metadata": {
  "kernelspec": {
   "display_name": "Python 3",
   "language": "python",
   "name": "python3"
  },
  "language_info": {
   "codemirror_mode": {
    "name": "ipython",
    "version": 3
   },
   "file_extension": ".py",
   "mimetype": "text/x-python",
   "name": "python",
   "nbconvert_exporter": "python",
   "pygments_lexer": "ipython3",
   "version": "3.6.8"
  }
 },
 "nbformat": 4,
 "nbformat_minor": 2
}
