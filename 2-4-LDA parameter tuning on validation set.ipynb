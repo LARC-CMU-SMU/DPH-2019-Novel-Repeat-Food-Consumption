{
 "cells": [
  {
   "cell_type": "code",
   "execution_count": null,
   "metadata": {},
   "outputs": [],
   "source": [
    "import datetime\n",
    "import os\n",
    "\n",
    "import pandas as pd\n",
    "\n",
    "from src.config import DATA_DIR, MODEL_DIR, PARAM_DIR\n",
    "from src.recommendation.LDA import train_lda_model, model_type\n",
    "from src.recommendation.all_evaluation import _results\n",
    "from src.recommendation.evaluation import evaluate\n",
    "from src.recommendation.mixture_functions import get_train\n",
    "from src.util.data_io import get_dataset\n",
    "from src.util.eval_measures import eval_lst\n",
    "from src.util.io import save_pickle\n",
    "\n",
    "FMT = '%Y-%m-%d %H:%M:%S'\n",
    "train_model, model_type = train_lda_model, model_type\n"
   ]
  },
  {
   "cell_type": "code",
   "execution_count": 4,
   "metadata": {},
   "outputs": [
    {
     "data": {
      "text/plain": [
       "'lda_model'"
      ]
     },
     "execution_count": 4,
     "metadata": {},
     "output_type": "execute_result"
    }
   ],
   "source": [
    "model_type\n"
   ]
  },
  {
   "cell_type": "code",
   "execution_count": 5,
   "metadata": {},
   "outputs": [],
   "source": [
    "data_dir = os.path.join(DATA_DIR, 'day')\n",
    "results_dir = os.path.join(MODEL_DIR, 'tuning')\n"
   ]
  },
  {
   "cell_type": "code",
   "execution_count": 6,
   "metadata": {},
   "outputs": [
    {
     "name": "stdout",
     "output_type": "stream",
     "text": [
      "[['recall', [5]], ['precision', [5]], ['nDCG', [5]]]\n"
     ]
    }
   ],
   "source": [
    "print(eval_lst)\n"
   ]
  },
  {
   "cell_type": "code",
   "execution_count": 7,
   "metadata": {},
   "outputs": [],
   "source": [
    "# subset Jan 20 - 22, 2015\n",
    "datasets = ['120', '121', '122']\n"
   ]
  },
  {
   "cell_type": "code",
   "execution_count": 16,
   "metadata": {},
   "outputs": [],
   "source": [
    "k_vals = [5, 10, 50, 100, 500]\n"
   ]
  },
  {
   "cell_type": "code",
   "execution_count": 17,
   "metadata": {},
   "outputs": [],
   "source": [
    "overwrite = False\n",
    "save_multinomials = True\n",
    "\n",
    "\n",
    "def hours_minutes_seconds(td):\n",
    "    return '{:02}:{:02}:{:02}'.format(td.seconds // 3600, (td.seconds // 60) % 60, td.seconds % 60)\n",
    "\n",
    "\n",
    "def eval_dataset(dataset, k_vals):\n",
    "    result_dic = {}\n",
    "\n",
    "    for n_components in k_vals:\n",
    "        print(n_components)\n",
    "        train, val, test = get_dataset(dataset, data_dir)\n",
    "        start_time = datetime.datetime.now()\n",
    "        all_multinomials = train_model(train, val, test, results_dir,\n",
    "                                       dataset, overwrite=False, save_multinomials=True,\n",
    "                                       n_components=n_components, is_tune=True)\n",
    "        end_time = datetime.datetime.now()\n",
    "        time_used = hours_minutes_seconds(end_time - start_time)\n",
    "        print('time_used', time_used)\n",
    "        dataset, eval_result = _results(dataset, eval_lst, val, all_multinomials)\n",
    "        eval_result.append(['time_used', time_used])\n",
    "        result_dic.update({n_components: eval_result})\n",
    "\n",
    "    df = pd.DataFrame(result_dic).T\n",
    "    df.columns = [item for sublist in list(result_dic.values())[0] for item in sublist[:1]]\n",
    "    for col in df.columns:\n",
    "        df[col] = df[col].apply(lambda s: s[1])\n",
    "\n",
    "    return df\n"
   ]
  },
  {
   "cell_type": "code",
   "execution_count": 18,
   "metadata": {
    "collapsed": true
   },
   "outputs": [
    {
     "name": "stdout",
     "output_type": "stream",
     "text": [
      "5\n",
      "2019-10-22 13:23:59,182 INFO --> Loading data for 120\n",
      "time_used 00:00:16\n",
      "recall@5: 0.05069\n",
      "precision@5: 0.05519\n",
      "nDCG@5: 0.07130\n",
      "10\n",
      "2019-10-22 13:25:06,894 INFO --> Loading data for 120\n",
      "time_used 00:00:05\n",
      "recall@5: 0.04832\n",
      "precision@5: 0.05315\n",
      "nDCG@5: 0.06941\n",
      "50\n",
      "2019-10-22 13:26:02,659 INFO --> Loading data for 120\n",
      "time_used 00:00:05\n",
      "recall@5: 0.05439\n",
      "precision@5: 0.05513\n",
      "nDCG@5: 0.07323\n",
      "100\n",
      "2019-10-22 13:26:58,851 INFO --> Loading data for 120\n",
      "time_used 00:00:03\n",
      "recall@5: 0.00017\n",
      "precision@5: 0.00019\n",
      "nDCG@5: 0.00020\n",
      "500\n",
      "2019-10-22 13:27:33,323 INFO --> Loading data for 120\n",
      "time_used 00:00:03\n",
      "recall@5: 0.00017\n",
      "precision@5: 0.00019\n",
      "nDCG@5: 0.00020\n",
      "5\n",
      "2019-10-22 13:28:08,130 INFO --> Loading data for 121\n",
      "time_used 00:00:16\n",
      "recall@5: 0.04836\n",
      "precision@5: 0.05383\n",
      "nDCG@5: 0.07025\n",
      "10\n",
      "2019-10-22 13:29:19,662 INFO --> Loading data for 121\n",
      "time_used 00:00:05\n",
      "recall@5: 0.04878\n",
      "precision@5: 0.05537\n",
      "nDCG@5: 0.07095\n",
      "50\n",
      "2019-10-22 13:30:20,521 INFO --> Loading data for 121\n",
      "time_used 00:00:05\n",
      "recall@5: 0.05281\n",
      "precision@5: 0.05471\n",
      "nDCG@5: 0.07208\n",
      "100\n",
      "2019-10-22 13:31:21,085 INFO --> Loading data for 121\n",
      "time_used 00:00:03\n",
      "recall@5: 0.00017\n",
      "precision@5: 0.00019\n",
      "nDCG@5: 0.00020\n",
      "500\n",
      "2019-10-22 13:31:57,874 INFO --> Loading data for 121\n",
      "time_used 00:00:03\n",
      "recall@5: 0.00017\n",
      "precision@5: 0.00019\n",
      "nDCG@5: 0.00020\n",
      "5\n",
      "2019-10-22 13:32:34,869 INFO --> Loading data for 122\n",
      "time_used 00:00:16\n",
      "recall@5: 0.05289\n",
      "precision@5: 0.05865\n",
      "nDCG@5: 0.07578\n",
      "10\n",
      "2019-10-22 13:33:45,364 INFO --> Loading data for 122\n",
      "time_used 00:00:06\n",
      "recall@5: 0.05341\n",
      "precision@5: 0.06093\n",
      "nDCG@5: 0.07739\n",
      "50\n",
      "2019-10-22 13:34:45,640 INFO --> Loading data for 122\n",
      "time_used 00:00:05\n",
      "recall@5: 0.05695\n",
      "precision@5: 0.05959\n",
      "nDCG@5: 0.07815\n",
      "100\n",
      "2019-10-22 13:35:45,657 INFO --> Loading data for 122\n",
      "time_used 00:00:03\n",
      "recall@5: 0.00017\n",
      "precision@5: 0.00019\n",
      "nDCG@5: 0.00020\n",
      "500\n",
      "2019-10-22 13:36:21,971 INFO --> Loading data for 122\n",
      "time_used 00:00:03\n",
      "recall@5: 0.00017\n",
      "precision@5: 0.00019\n",
      "nDCG@5: 0.00020\n"
     ]
    }
   ],
   "source": [
    "dfs = dict()\n",
    "for dataset in datasets:\n",
    "    dataset = str(dataset)\n",
    "    df = eval_dataset(dataset, k_vals)\n",
    "    dfs.update({dataset: df})\n"
   ]
  },
  {
   "cell_type": "code",
   "execution_count": 19,
   "metadata": {},
   "outputs": [
    {
     "data": {
      "text/html": [
       "<div>\n",
       "<style scoped>\n",
       "    .dataframe tbody tr th:only-of-type {\n",
       "        vertical-align: middle;\n",
       "    }\n",
       "\n",
       "    .dataframe tbody tr th {\n",
       "        vertical-align: top;\n",
       "    }\n",
       "\n",
       "    .dataframe thead th {\n",
       "        text-align: right;\n",
       "    }\n",
       "</style>\n",
       "<table border=\"1\" class=\"dataframe\">\n",
       "  <thead>\n",
       "    <tr style=\"text-align: right;\">\n",
       "      <th></th>\n",
       "      <th>recall@5</th>\n",
       "      <th>precision@5</th>\n",
       "      <th>nDCG@5</th>\n",
       "      <th>time_used</th>\n",
       "    </tr>\n",
       "  </thead>\n",
       "  <tbody>\n",
       "    <tr>\n",
       "      <th>5</th>\n",
       "      <td>0.052891</td>\n",
       "      <td>0.058647</td>\n",
       "      <td>0.075780</td>\n",
       "      <td>00:00:16</td>\n",
       "    </tr>\n",
       "    <tr>\n",
       "      <th>10</th>\n",
       "      <td>0.053406</td>\n",
       "      <td>0.060930</td>\n",
       "      <td>0.077386</td>\n",
       "      <td>00:00:06</td>\n",
       "    </tr>\n",
       "    <tr>\n",
       "      <th>50</th>\n",
       "      <td>0.056951</td>\n",
       "      <td>0.059593</td>\n",
       "      <td>0.078152</td>\n",
       "      <td>00:00:05</td>\n",
       "    </tr>\n",
       "    <tr>\n",
       "      <th>100</th>\n",
       "      <td>0.000166</td>\n",
       "      <td>0.000194</td>\n",
       "      <td>0.000201</td>\n",
       "      <td>00:00:03</td>\n",
       "    </tr>\n",
       "    <tr>\n",
       "      <th>500</th>\n",
       "      <td>0.000166</td>\n",
       "      <td>0.000194</td>\n",
       "      <td>0.000201</td>\n",
       "      <td>00:00:03</td>\n",
       "    </tr>\n",
       "  </tbody>\n",
       "</table>\n",
       "</div>"
      ],
      "text/plain": [
       "     recall@5  precision@5    nDCG@5 time_used\n",
       "5    0.052891     0.058647  0.075780  00:00:16\n",
       "10   0.053406     0.060930  0.077386  00:00:06\n",
       "50   0.056951     0.059593  0.078152  00:00:05\n",
       "100  0.000166     0.000194  0.000201  00:00:03\n",
       "500  0.000166     0.000194  0.000201  00:00:03"
      ]
     },
     "execution_count": 19,
     "metadata": {},
     "output_type": "execute_result"
    }
   ],
   "source": [
    "df\n"
   ]
  },
  {
   "cell_type": "code",
   "execution_count": 20,
   "metadata": {},
   "outputs": [
    {
     "data": {
      "text/plain": [
       "['recall@5', 'precision@5', 'nDCG@5', 'time_used']"
      ]
     },
     "execution_count": 20,
     "metadata": {},
     "output_type": "execute_result"
    }
   ],
   "source": [
    "eval_measure = df.columns.tolist()\n",
    "eval_measure\n"
   ]
  },
  {
   "cell_type": "code",
   "execution_count": 21,
   "metadata": {},
   "outputs": [],
   "source": [
    "def plot_metric(col):\n",
    "    try:\n",
    "        df_plot = pd.DataFrame({c: df[col] for c, df in dfs.items()})\n",
    "        df_plot.plot(logx=True, xticks=k_vals, title=col.upper() + ' for different k')\n",
    "    except:\n",
    "        # time is not numeric value\n",
    "        return df_plot\n"
   ]
  },
  {
   "cell_type": "code",
   "execution_count": 22,
   "metadata": {},
   "outputs": [
    {
     "name": "stdout",
     "output_type": "stream",
     "text": [
      "120\n",
      "50\n",
      "121\n",
      "50\n",
      "122\n",
      "50\n"
     ]
    }
   ],
   "source": [
    "for k, df in dfs.items():\n",
    "    print(k)\n",
    "    print(df['nDCG@5'].idxmax())\n"
   ]
  },
  {
   "cell_type": "code",
   "execution_count": 23,
   "metadata": {
    "scrolled": false
   },
   "outputs": [
    {
     "name": "stdout",
     "output_type": "stream",
     "text": [
      "          120       121       122\n",
      "5    00:00:16  00:00:16  00:00:16\n",
      "10   00:00:05  00:00:05  00:00:06\n",
      "50   00:00:05  00:00:05  00:00:05\n",
      "100  00:00:03  00:00:03  00:00:03\n",
      "500  00:00:03  00:00:03  00:00:03\n"
     ]
    },
    {
     "data": {
      "image/png": "[encoded data removed]",
      "text/plain": [
       "<Figure size 432x288 with 1 Axes>"
      ]
     },
     "metadata": {
      "needs_background": "light"
     },
     "output_type": "display_data"
    },
    {
     "data": {
      "image/png": "[encoded data removed]",
      "text/plain": [
       "<Figure size 432x288 with 1 Axes>"
      ]
     },
     "metadata": {
      "needs_background": "light"
     },
     "output_type": "display_data"
    },
    {
     "data": {
      "image/png": "[encoded data removed]",
      "text/plain": [
       "<Figure size 432x288 with 1 Axes>"
      ]
     },
     "metadata": {
      "needs_background": "light"
     },
     "output_type": "display_data"
    }
   ],
   "source": [
    "for col in eval_measure:\n",
    "    df_time = plot_metric(col)\n",
    "print(df_time)\n"
   ]
  },
  {
   "cell_type": "code",
   "execution_count": 25,
   "metadata": {},
   "outputs": [],
   "source": [
    "save_pickle(os.path.join(PARAM_DIR, model_type), 50, False)\n"
   ]
  }
 ],
 "metadata": {
  "kernelspec": {
   "display_name": "Python 3",
   "language": "python",
   "name": "python3"
  },
  "language_info": {
   "codemirror_mode": {
    "name": "ipython",
    "version": 3
   },
   "file_extension": ".py",
   "mimetype": "text/x-python",
   "name": "python",
   "nbconvert_exporter": "python",
   "pygments_lexer": "ipython3",
   "version": "3.6.8"
  }
 },
 "nbformat": 4,
 "nbformat_minor": 2
}
