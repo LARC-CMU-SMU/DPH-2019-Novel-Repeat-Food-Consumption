{
 "cells": [
  {
   "cell_type": "code",
   "execution_count": null,
   "metadata": {},
   "outputs": [],
   "source": [
    "import datetime\n",
    "import os\n",
    "\n",
    "import pandas as pd\n",
    "\n",
    "from src.config import DATA_DIR, MODEL_DIR, PARAM_DIR\n",
    "from src.recommendation.NMF import train_nmf_model, model_type\n",
    "from src.recommendation.all_evaluation import _results\n",
    "from src.recommendation.evaluation import evaluate\n",
    "from src.recommendation.mixture_functions import get_train\n",
    "from src.util.data_io import get_dataset\n",
    "from src.util.eval_measures import eval_lst\n",
    "from src.util.io import save_pickle\n",
    "\n",
    "train_model, model_type = train_nmf_model, model_type\n",
    "\n"
   ]
  },
  {
   "cell_type": "code",
   "execution_count": 3,
   "metadata": {},
   "outputs": [
    {
     "data": {
      "text/plain": [
       "'nmf_model'"
      ]
     },
     "execution_count": 3,
     "metadata": {},
     "output_type": "execute_result"
    }
   ],
   "source": [
    "model_type\n"
   ]
  },
  {
   "cell_type": "code",
   "execution_count": 4,
   "metadata": {},
   "outputs": [],
   "source": [
    "data_dir = os.path.join(DATA_DIR, 'day')\n",
    "results_dir = os.path.join(MODEL_DIR, 'tuning')\n"
   ]
  },
  {
   "cell_type": "code",
   "execution_count": 5,
   "metadata": {},
   "outputs": [
    {
     "name": "stdout",
     "output_type": "stream",
     "text": [
      "[['recall', [5]], ['precision', [5]], ['nDCG', [5]]]\n"
     ]
    }
   ],
   "source": [
    "print(eval_lst)"
   ]
  },
  {
   "cell_type": "code",
   "execution_count": 6,
   "metadata": {},
   "outputs": [],
   "source": [
    "# subset Jan 20 - 22, 2015\n",
    "datasets = ['120', '121', '122']\n"
   ]
  },
  {
   "cell_type": "code",
   "execution_count": 7,
   "metadata": {},
   "outputs": [],
   "source": [
    "k_vals = [5, 10, 50, 100, 500]\n"
   ]
  },
  {
   "cell_type": "code",
   "execution_count": 8,
   "metadata": {},
   "outputs": [],
   "source": [
    "overwrite = False\n",
    "save_multinomials = True\n",
    "\n",
    "\n",
    "def hours_minutes_seconds(td):\n",
    "    return '{:02}:{:02}:{:02}'.format(td.seconds // 3600, (td.seconds // 60) % 60, td.seconds % 60)\n",
    "\n",
    "\n",
    "def eval_dataset(dataset, k_vals):\n",
    "    result_dic = {}\n",
    "\n",
    "    for n_components in k_vals:\n",
    "        print(n_components)\n",
    "        train, val, test = get_dataset(dataset, data_dir)\n",
    "        start_time = datetime.datetime.now()\n",
    "        all_multinomials = train_model(train, val, test, results_dir,\n",
    "                                       dataset, overwrite=False, save_multinomials=True,\n",
    "                                       n_components=n_components, is_tune=True)\n",
    "        end_time = datetime.datetime.now()\n",
    "        time_used = hours_minutes_seconds(end_time - start_time)\n",
    "        print('time_used', time_used)\n",
    "        dataset, eval_result = _results(dataset, eval_lst, val, all_multinomials)\n",
    "        eval_result.append(['time_used', time_used])\n",
    "        result_dic.update({n_components: eval_result})\n",
    "\n",
    "    df = pd.DataFrame(result_dic).T\n",
    "    df.columns = [item for sublist in list(result_dic.values())[0] for item in sublist[:1]]\n",
    "    for col in df.columns:\n",
    "        df[col] = df[col].apply(lambda s: s[1])\n",
    "    return df\n"
   ]
  },
  {
   "cell_type": "code",
   "execution_count": 9,
   "metadata": {},
   "outputs": [
    {
     "name": "stdout",
     "output_type": "stream",
     "text": [
      "5\n",
      "2019-10-22 16:34:35,372 INFO --> Loading data for 120\n",
      "time_used 00:00:08\n",
      "recall@5: 0.05916\n",
      "precision@5: 0.06474\n",
      "nDCG@5: 0.09130\n",
      "10\n",
      "2019-10-22 16:35:36,010 INFO --> Loading data for 120\n",
      "time_used 00:00:08\n",
      "recall@5: 0.06610\n",
      "precision@5: 0.07424\n",
      "nDCG@5: 0.10747\n",
      "50\n",
      "2019-10-22 16:36:33,876 INFO --> Loading data for 120\n",
      "time_used 00:00:37\n",
      "recall@5: 0.09622\n",
      "precision@5: 0.09913\n",
      "nDCG@5: 0.14940\n",
      "100\n",
      "2019-10-22 16:38:00,502 INFO --> Loading data for 120\n",
      "time_used 00:01:42\n",
      "recall@5: 0.11727\n",
      "precision@5: 0.11702\n",
      "nDCG@5: 0.17317\n",
      "500\n",
      "2019-10-22 16:40:32,849 INFO --> Loading data for 120\n",
      "time_used 00:41:49\n",
      "recall@5: 0.21183\n",
      "precision@5: 0.19793\n",
      "nDCG@5: 0.27853\n",
      "5\n",
      "2019-10-22 17:23:18,311 INFO --> Loading data for 121\n",
      "time_used 00:00:09\n",
      "recall@5: 0.05854\n",
      "precision@5: 0.06625\n",
      "nDCG@5: 0.09353\n",
      "10\n",
      "2019-10-22 17:24:31,048 INFO --> Loading data for 121\n",
      "time_used 00:00:10\n",
      "recall@5: 0.06850\n",
      "precision@5: 0.07855\n",
      "nDCG@5: 0.11152\n",
      "50\n",
      "2019-10-22 17:25:43,349 INFO --> Loading data for 121\n",
      "time_used 00:00:41\n",
      "recall@5: 0.09601\n",
      "precision@5: 0.10492\n",
      "nDCG@5: 0.15379\n",
      "100\n",
      "2019-10-22 17:27:26,982 INFO --> Loading data for 121\n",
      "time_used 00:02:11\n",
      "recall@5: 0.11872\n",
      "precision@5: 0.12568\n",
      "nDCG@5: 0.18124\n",
      "500\n",
      "2019-10-22 17:30:40,131 INFO --> Loading data for 121\n",
      "time_used 00:41:36\n",
      "recall@5: 0.21181\n",
      "precision@5: 0.20762\n",
      "nDCG@5: 0.28579\n",
      "5\n",
      "2019-10-22 18:13:33,659 INFO --> Loading data for 122\n",
      "time_used 00:00:09\n",
      "recall@5: 0.06155\n",
      "precision@5: 0.07040\n",
      "nDCG@5: 0.09842\n",
      "10\n",
      "2019-10-22 18:15:00,504 INFO --> Loading data for 122\n",
      "time_used 00:00:13\n",
      "recall@5: 0.06517\n",
      "precision@5: 0.07452\n",
      "nDCG@5: 0.10856\n",
      "50\n",
      "2019-10-22 18:16:37,325 INFO --> Loading data for 122\n",
      "time_used 00:00:53\n",
      "recall@5: 0.10193\n",
      "precision@5: 0.11189\n",
      "nDCG@5: 0.16325\n",
      "100\n",
      "2019-10-22 18:18:52,971 INFO --> Loading data for 122\n",
      "time_used 00:02:10\n",
      "recall@5: 0.12490\n",
      "precision@5: 0.13166\n",
      "nDCG@5: 0.19063\n",
      "500\n",
      "2019-10-22 18:22:24,725 INFO --> Loading data for 122\n",
      "time_used 00:43:48\n",
      "recall@5: 0.21728\n",
      "precision@5: 0.20947\n",
      "nDCG@5: 0.29075\n"
     ]
    }
   ],
   "source": [
    "dfs = dict()\n",
    "for dataset in datasets:\n",
    "    dataset = str(dataset)\n",
    "    df = eval_dataset(dataset, k_vals)\n",
    "    dfs.update({dataset: df})\n"
   ]
  },
  {
   "cell_type": "code",
   "execution_count": 10,
   "metadata": {},
   "outputs": [
    {
     "data": {
      "text/html": [
       "<div>\n",
       "<style scoped>\n",
       "    .dataframe tbody tr th:only-of-type {\n",
       "        vertical-align: middle;\n",
       "    }\n",
       "\n",
       "    .dataframe tbody tr th {\n",
       "        vertical-align: top;\n",
       "    }\n",
       "\n",
       "    .dataframe thead th {\n",
       "        text-align: right;\n",
       "    }\n",
       "</style>\n",
       "<table border=\"1\" class=\"dataframe\">\n",
       "  <thead>\n",
       "    <tr style=\"text-align: right;\">\n",
       "      <th></th>\n",
       "      <th>recall@5</th>\n",
       "      <th>precision@5</th>\n",
       "      <th>nDCG@5</th>\n",
       "      <th>time_used</th>\n",
       "    </tr>\n",
       "  </thead>\n",
       "  <tbody>\n",
       "    <tr>\n",
       "      <th>5</th>\n",
       "      <td>0.061546</td>\n",
       "      <td>0.070398</td>\n",
       "      <td>0.098419</td>\n",
       "      <td>00:00:09</td>\n",
       "    </tr>\n",
       "    <tr>\n",
       "      <th>10</th>\n",
       "      <td>0.065170</td>\n",
       "      <td>0.074520</td>\n",
       "      <td>0.108555</td>\n",
       "      <td>00:00:13</td>\n",
       "    </tr>\n",
       "    <tr>\n",
       "      <th>50</th>\n",
       "      <td>0.101930</td>\n",
       "      <td>0.111891</td>\n",
       "      <td>0.163253</td>\n",
       "      <td>00:00:53</td>\n",
       "    </tr>\n",
       "    <tr>\n",
       "      <th>100</th>\n",
       "      <td>0.124900</td>\n",
       "      <td>0.131662</td>\n",
       "      <td>0.190629</td>\n",
       "      <td>00:02:10</td>\n",
       "    </tr>\n",
       "    <tr>\n",
       "      <th>500</th>\n",
       "      <td>0.217281</td>\n",
       "      <td>0.209468</td>\n",
       "      <td>0.290750</td>\n",
       "      <td>00:43:48</td>\n",
       "    </tr>\n",
       "  </tbody>\n",
       "</table>\n",
       "</div>"
      ],
      "text/plain": [
       "     recall@5  precision@5    nDCG@5 time_used\n",
       "5    0.061546     0.070398  0.098419  00:00:09\n",
       "10   0.065170     0.074520  0.108555  00:00:13\n",
       "50   0.101930     0.111891  0.163253  00:00:53\n",
       "100  0.124900     0.131662  0.190629  00:02:10\n",
       "500  0.217281     0.209468  0.290750  00:43:48"
      ]
     },
     "execution_count": 10,
     "metadata": {},
     "output_type": "execute_result"
    }
   ],
   "source": [
    "df"
   ]
  },
  {
   "cell_type": "code",
   "execution_count": 11,
   "metadata": {},
   "outputs": [
    {
     "data": {
      "text/plain": [
       "['recall@5', 'precision@5', 'nDCG@5', 'time_used']"
      ]
     },
     "execution_count": 11,
     "metadata": {},
     "output_type": "execute_result"
    }
   ],
   "source": [
    "eval_measure = df.columns.tolist()\n",
    "eval_measure\n"
   ]
  },
  {
   "cell_type": "code",
   "execution_count": 12,
   "metadata": {},
   "outputs": [],
   "source": [
    "def plot_metric(col):\n",
    "    try:\n",
    "        df_plot = pd.DataFrame({c: df[col] for c, df in dfs.items()})\n",
    "        df_plot.plot(logx=True, xticks=k_vals, title=col.upper() + ' for different k')\n",
    "    except:\n",
    "        # time is not numeric value\n",
    "        return df_plot\n"
   ]
  },
  {
   "cell_type": "code",
   "execution_count": 13,
   "metadata": {},
   "outputs": [
    {
     "name": "stdout",
     "output_type": "stream",
     "text": [
      "120\n",
      "500\n",
      "121\n",
      "500\n",
      "122\n",
      "500\n"
     ]
    }
   ],
   "source": [
    "for k, df in dfs.items():\n",
    "    print(k)\n",
    "    print(df['nDCG@5'].idxmax())\n"
   ]
  },
  {
   "cell_type": "code",
   "execution_count": 14,
   "metadata": {
    "scrolled": false
   },
   "outputs": [
    {
     "name": "stdout",
     "output_type": "stream",
     "text": [
      "          120       121       122\n",
      "5    00:00:08  00:00:09  00:00:09\n",
      "10   00:00:08  00:00:10  00:00:13\n",
      "50   00:00:37  00:00:41  00:00:53\n",
      "100  00:01:42  00:02:11  00:02:10\n",
      "500  00:41:49  00:41:36  00:43:48\n"
     ]
    },
    {
     "data": {
      "image/png": "[encoded data removed]",
      "text/plain": [
       "<Figure size 432x288 with 1 Axes>"
      ]
     },
     "metadata": {
      "needs_background": "light"
     },
     "output_type": "display_data"
    },
    {
     "data": {
      "image/png": "[encoded data removed]",
      "text/plain": [
       "<Figure size 432x288 with 1 Axes>"
      ]
     },
     "metadata": {
      "needs_background": "light"
     },
     "output_type": "display_data"
    },
    {
     "data": {
      "image/png": "[encoded data removed]",
      "text/plain": [
       "<Figure size 432x288 with 1 Axes>"
      ]
     },
     "metadata": {
      "needs_background": "light"
     },
     "output_type": "display_data"
    }
   ],
   "source": [
    "for col in eval_measure:\n",
    "    df_time = plot_metric(col)\n",
    "print(df_time)\n"
   ]
  },
  {
   "cell_type": "code",
   "execution_count": 16,
   "metadata": {},
   "outputs": [],
   "source": [
    "# n_component=500 taking too much time (over half an hour), use 100 instead\n",
    "save_pickle(os.path.join(PARAM_DIR, model_type), 100, False)\n"
   ]
  },
  {
   "cell_type": "code",
   "execution_count": null,
   "metadata": {},
   "outputs": [],
   "source": []
  }
 ],
 "metadata": {
  "kernelspec": {
   "display_name": "Python 3",
   "language": "python",
   "name": "python3"
  },
  "language_info": {
   "codemirror_mode": {
    "name": "ipython",
    "version": 3
   },
   "file_extension": ".py",
   "mimetype": "text/x-python",
   "name": "python",
   "nbconvert_exporter": "python",
   "pygments_lexer": "ipython3",
   "version": "3.6.8"
  }
 },
 "nbformat": 4,
 "nbformat_minor": 2
}
