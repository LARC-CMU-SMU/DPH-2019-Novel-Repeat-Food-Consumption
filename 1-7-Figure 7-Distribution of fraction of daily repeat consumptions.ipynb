{
 "cells": [
  {
   "cell_type": "code",
   "execution_count": 1,
   "metadata": {},
   "outputs": [],
   "source": [
    "%matplotlib inline"
   ]
  },
  {
   "cell_type": "code",
   "execution_count": 2,
   "metadata": {},
   "outputs": [],
   "source": [
    "import os\n",
    "from collections import Counter\n",
    "from datetime import datetime\n",
    "\n",
    "import matplotlib.dates as mdates\n",
    "import matplotlib.pyplot as plt\n",
    "import numpy as np\n",
    "import pandas as pd\n",
    "import seaborn as sns\n",
    "\n",
    "from src.config import FIG_DIR, DATA_DIR\n"
   ]
  },
  {
   "cell_type": "code",
   "execution_count": 3,
   "metadata": {},
   "outputs": [],
   "source": [
    "figure_data_file = os.path.join(FIG_DIR, 'fig_6_data.csv')\n",
    "\n",
    "if not os.path.exists(figure_data_file):\n",
    "    df = pd.read_csv(os.path.join(DATA_DIR, 'MFP.csv'))\n",
    "    days_ref = np.load(os.path.join(DATA_DIR, 'days_date_mapping.npy')).item()\n",
    "    date_ref = {v: k for k, v in days_ref.items()}\n",
    "    df['date'] = df['days'].apply(lambda s: date_ref[s])\n",
    "\n",
    "    cols = ['uid', 'days', 'food_id']\n",
    "    dic = df[cols].drop_duplicates().groupby(['uid', 'days'])['food_id'].apply(list).to_dict()\n",
    "\n",
    "    def enlist(lst):\n",
    "        \"\"\" Enlist a mixture of list and str, return as original order\"\"\"\n",
    "        res = []\n",
    "        for i in lst:\n",
    "            if isinstance(i, list) or isinstance(i, tuple):\n",
    "                res.extend(i)\n",
    "            else:\n",
    "                if i == i:\n",
    "                    res.append(i)\n",
    "        return res\n",
    "\n",
    "    # times of a food item was consumed by a user in the recent hist\n",
    "    bounded_freq_dic = {}\n",
    "    window_size = 7\n",
    "    for user, t in sorted(dic.keys()):\n",
    "        all_food = enlist([dic.get((user, n), []) for n in np.arange(t - (window_size - 1), t + 1, 1)])\n",
    "        bounded_freq_dic.update({(user, t): dict(Counter(all_food))})\n",
    "\n",
    "    def find_freq(line, ref=bounded_freq_dic):\n",
    "        return ref[(line['uid'], line['days'])][line['food_id']]\n",
    "\n",
    "    df['cnt_bounded'] = df.apply(find_freq, axis=1)\n",
    "    df['is_repeat'] = df['cnt_bounded'] > 1\n",
    "    df['is_repeat'] = df['is_repeat'].astype(int)\n",
    "\n",
    "    # label meal with index\n",
    "    meal_ref = {'breakfast': 0, 'lunch': 1, 'dinner': 2, 'snack': 3}\n",
    "    df['meal_index'] = df['meal'].apply(lambda s: meal_ref[s])\n",
    "\n",
    "    # temporal\n",
    "    data = df.groupby(['date'])['is_repeat'].agg(['sum', 'mean']).reset_index()\n",
    "\n",
    "    data['days'] = data['date'].apply(lambda s: days_ref[s])\n",
    "    data = data.rename(str, columns={'sum': \"n_repeat\", 'mean': \"percentage_repeat_consumption\"})\n",
    "    df_initial_date = '2014-09-14'\n",
    "    date_format = '%Y-%m-%d'\n",
    "    # initial date falls on which weekday\n",
    "    df_offset = datetime.strptime(df_initial_date, date_format).weekday() + 1\n",
    "    # test date after passing 7 training & 1 validation days\n",
    "    data['weekday'] = data['days'].apply(lambda t: (t + df_offset - 1) % 7 + 1)\n",
    "    weekday_ref = {7: 'Sunday', 1: 'Monday', 2: 'Tuesday', 3: 'Wednesday', 4: 'Thursday', 5: 'Friday', 6: 'Saturday'}\n",
    "    data['day'] = data['weekday'].apply(lambda s: weekday_ref[s][:3])\n",
    "    data.to_csv(figure_data_file, index=False)\n"
   ]
  },
  {
   "cell_type": "code",
   "execution_count": 4,
   "metadata": {},
   "outputs": [],
   "source": [
    "def plot_fig7(df, col='percentage_repeat_consumption'):\n",
    "    figure_name = os.path.join(FIG_DIR, 'paper_fig_7.png')\n",
    "\n",
    "    plt.rc('pdf', fonttype=42)\n",
    "    sns.set(style=\"ticks\")\n",
    "    sns.set_context('paper', font_scale=1.3)\n",
    "    plt.subplots(figsize=(6, 3))\n",
    "\n",
    "    ax = sns.boxplot(x=\"day\", y=col, data=df, showfliers=False,\n",
    "                     order=[\"Mon\", \"Tue\", \"Wed\", \"Thu\", \"Fri\", \"Sat\", 'Sun'],\n",
    "                     linewidth=2.5, color='darkgrey', )\n",
    "    ax.grid(ls=\"dotted\")\n",
    "    ax.set_ylabel(\"% Repeat consumption\")\n",
    "    ax.set_xlabel(\"Day\")\n",
    "    sns.despine(offset=10, trim=True)\n",
    "    plt.tight_layout()\n",
    "    plt.savefig(figure_name, dpi=200, transparent=False, bbox_inches='tight', pad_inches=0.0)\n",
    "    plt.show()\n"
   ]
  },
  {
   "cell_type": "code",
   "execution_count": 5,
   "metadata": {},
   "outputs": [],
   "source": [
    "data = pd.read_csv(figure_data_file)"
   ]
  },
  {
   "cell_type": "code",
   "execution_count": 6,
   "metadata": {},
   "outputs": [
    {
     "data": {
      "image/png": "[encoded data removed]",
      "text/plain": [
       "<Figure size 432x216 with 1 Axes>"
      ]
     },
     "metadata": {},
     "output_type": "display_data"
    }
   ],
   "source": [
    "plot_fig7(data.iloc[7:,])"
   ]
  }
 ],
 "metadata": {
  "kernelspec": {
   "display_name": "Python 3",
   "language": "python",
   "name": "python3"
  },
  "language_info": {
   "codemirror_mode": {
    "name": "ipython",
    "version": 3
   },
   "file_extension": ".py",
   "mimetype": "text/x-python",
   "name": "python",
   "nbconvert_exporter": "python",
   "pygments_lexer": "ipython3",
   "version": "3.6.8"
  }
 },
 "nbformat": 4,
 "nbformat_minor": 2
}
