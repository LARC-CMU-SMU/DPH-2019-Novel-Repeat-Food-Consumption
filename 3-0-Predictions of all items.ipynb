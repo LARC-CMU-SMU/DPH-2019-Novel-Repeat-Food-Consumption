{
 "cells": [
  {
   "cell_type": "code",
   "execution_count": 1,
   "metadata": {},
   "outputs": [],
   "source": [
    "import os\n",
    "\n",
    "import numpy as np\n",
    "import pandas as pd\n",
    "\n",
    "from src.config import DATA_DIR, MODEL_DIR, PARAM_DIR, OUTPUT_DIR\n",
    "from src.recommendation.all_evaluation import model_results\n",
    "from src.util.eval_measures import eval_lst\n",
    "from src.util.io import load_pickle\n"
   ]
  },
  {
   "cell_type": "code",
   "execution_count": 2,
   "metadata": {},
   "outputs": [],
   "source": [
    "data_dir = os.path.join(DATA_DIR, 'day')\n",
    "results_dir = os.path.join(MODEL_DIR, 'day')\n",
    "datasets = os.listdir(data_dir)\n",
    "all_result = {}\n"
   ]
  },
  {
   "cell_type": "code",
   "execution_count": 3,
   "metadata": {},
   "outputs": [],
   "source": [
    "from src.recommendation.Mixture import train_mixture_model\n",
    "\n",
    "model_type = 'mixture_model'\n",
    "df1 = model_results(datasets, train_mixture_model, model_type, data_dir, results_dir, eval_lst,\n",
    "                    save_multinomials=False, overwrite=False)\n",
    "all_result[model_type] = df1\n"
   ]
  },
  {
   "cell_type": "code",
   "execution_count": 4,
   "metadata": {},
   "outputs": [],
   "source": [
    "from src.recommendation.Mixture import train_mixture_model\n",
    "\n",
    "model_type = 'mixture_decay_model'\n",
    "param = load_pickle(os.path.join(PARAM_DIR, model_type))\n",
    "df2 = model_results(datasets, train_mixture_model, model_type, data_dir, results_dir, eval_lst,\n",
    "                    n_components=param, save_multinomials=False, overwrite=False)\n",
    "all_result[model_type] = df2\n"
   ]
  },
  {
   "cell_type": "code",
   "execution_count": 5,
   "metadata": {},
   "outputs": [],
   "source": [
    "from src.recommendation.FPMC import train_fpmc_model, model_type\n",
    "\n",
    "param = load_pickle(os.path.join(PARAM_DIR, model_type))\n",
    "df3 = model_results(datasets, train_fpmc_model, model_type, data_dir, results_dir, eval_lst,\n",
    "                    n_components=param, save_multinomials=False, overwrite=False)\n",
    "all_result[model_type] = df3\n"
   ]
  },
  {
   "cell_type": "code",
   "execution_count": 6,
   "metadata": {},
   "outputs": [],
   "source": [
    "from src.recommendation.NMF import train_nmf_model, model_type\n",
    "\n",
    "param = load_pickle(os.path.join(PARAM_DIR, model_type))\n",
    "df4 = model_results(datasets, train_nmf_model, model_type, data_dir, results_dir, eval_lst,\n",
    "                    n_components=param, save_multinomials=False, overwrite=False)\n",
    "all_result[model_type] = df4\n"
   ]
  },
  {
   "cell_type": "code",
   "execution_count": 7,
   "metadata": {},
   "outputs": [],
   "source": [
    "from src.recommendation.HPF import train_hpf_model, model_type\n",
    "\n",
    "param = load_pickle(os.path.join(PARAM_DIR, model_type))\n",
    "df5 = model_results(datasets, train_hpf_model, model_type, data_dir, results_dir, eval_lst,\n",
    "                    n_components=param, save_multinomials=False, overwrite=False)\n",
    "all_result[model_type] = df5\n"
   ]
  },
  {
   "cell_type": "code",
   "execution_count": 8,
   "metadata": {},
   "outputs": [],
   "source": [
    "from src.recommendation.LDA import train_lda_model, model_type\n",
    "\n",
    "param = load_pickle(os.path.join(PARAM_DIR, model_type))\n",
    "df6 = model_results(datasets, train_lda_model, model_type, data_dir, results_dir, eval_lst,\n",
    "                    n_components=param, save_multinomials=False, overwrite=False)\n",
    "all_result[model_type] = df6\n"
   ]
  },
  {
   "cell_type": "code",
   "execution_count": 9,
   "metadata": {},
   "outputs": [],
   "source": [
    "from src.recommendation.Global import train_global_model, model_type\n",
    "\n",
    "df7 = model_results(datasets, train_global_model, model_type, data_dir, results_dir, eval_lst,\n",
    "                    save_multinomials=False, overwrite=False)\n",
    "all_result[model_type] = df7\n"
   ]
  },
  {
   "cell_type": "code",
   "execution_count": null,
   "metadata": {},
   "outputs": [],
   "source": [
    "from src.recommendation.Personal import train_favourite_model, model_type\n",
    "\n",
    "df8 = model_results(datasets, train_favourite_model, model_type, data_dir, results_dir, eval_lst,\n",
    "                    save_multinomials=False, overwrite=False)\n",
    "all_result[model_type] = df8\n"
   ]
  },
  {
   "cell_type": "markdown",
   "metadata": {},
   "source": [
    "# Display results"
   ]
  },
  {
   "cell_type": "code",
   "execution_count": 12,
   "metadata": {},
   "outputs": [],
   "source": [
    "def display_results(metrics=False, decimal=3, decimal_sd=3, bold=True, std=True, idx=df1.columns.tolist()):\n",
    "    col_ref = {'global_model': 'Global', 'personal_model': 'Personal', 'fpmc_model': 'FPMC',\n",
    "               'mixture_model': 'Mixture', 'mixture_decay_model': 'MixtureTW',\n",
    "               'nmf_model': 'NMF', 'hpf_model': 'HPF', 'lda_model': 'LDA', }\n",
    "    cols = ['MixtureTW', 'Mixture', 'FPMC', 'NMF', 'HPF', 'LDA', 'Global', 'Personal']\n",
    "\n",
    "    result_mean = {m: df.astype('float64').mean().values for m, df in all_result.items()}\n",
    "    result_mean['index'] = idx\n",
    "    result = pd.DataFrame(result_mean).set_index('index')\n",
    "    result = result.round(decimal).astype(str).rename(index=str, columns=col_ref)[cols]\n",
    "    for col in cols:\n",
    "        result[col] = result[col].str.pad(decimal + 2, 'right', '0')\n",
    "    if bold:\n",
    "        for row, col in enumerate(np.argmax(result.values, axis=1)):\n",
    "            result.iat[row, col] = \"\\textbf{\" + result.iat[row, col] + \"}\"\n",
    "    if std:\n",
    "        result_std = {m: df.astype('float64').std().values for m, df in all_result.items()}\n",
    "        result_std['index'] = idx\n",
    "        res = pd.DataFrame(result_std).set_index('index')\n",
    "        res = res.round(decimal_sd).astype(str).rename(index=str, columns=col_ref)[cols]\n",
    "        for col in cols:\n",
    "            result[col] = result[col] + ' $\\pm$ ' + res[col].str.pad(decimal_sd + 2, 'right', '0')\n",
    "    if metrics:\n",
    "        result.index.names = ['Method']\n",
    "        result = result.T[metrics]\n",
    "    return result\n"
   ]
  },
  {
   "cell_type": "code",
   "execution_count": 13,
   "metadata": {},
   "outputs": [
    {
     "data": {
      "text/html": [
       "<div>\n",
       "<style scoped>\n",
       "    .dataframe tbody tr th:only-of-type {\n",
       "        vertical-align: middle;\n",
       "    }\n",
       "\n",
       "    .dataframe tbody tr th {\n",
       "        vertical-align: top;\n",
       "    }\n",
       "\n",
       "    .dataframe thead th {\n",
       "        text-align: right;\n",
       "    }\n",
       "</style>\n",
       "<table border=\"1\" class=\"dataframe\">\n",
       "  <thead>\n",
       "    <tr style=\"text-align: right;\">\n",
       "      <th>Method</th>\n",
       "      <th>recall@5</th>\n",
       "      <th>precision@5</th>\n",
       "      <th>nDCG@5</th>\n",
       "    </tr>\n",
       "  </thead>\n",
       "  <tbody>\n",
       "    <tr>\n",
       "      <th>MixtureTW</th>\n",
       "      <td>\\textbf{0.389} $\\pm$ 0.029</td>\n",
       "      <td>\\textbf{0.352} $\\pm$ 0.039</td>\n",
       "      <td>\\textbf{0.465} $\\pm$ 0.038</td>\n",
       "    </tr>\n",
       "    <tr>\n",
       "      <th>Mixture</th>\n",
       "      <td>0.370 $\\pm$ 0.026</td>\n",
       "      <td>0.337 $\\pm$ 0.035</td>\n",
       "      <td>0.446 $\\pm$ 0.034</td>\n",
       "    </tr>\n",
       "    <tr>\n",
       "      <th>FPMC</th>\n",
       "      <td>0.355 $\\pm$ 0.026</td>\n",
       "      <td>0.321 $\\pm$ 0.034</td>\n",
       "      <td>0.414 $\\pm$ 0.034</td>\n",
       "    </tr>\n",
       "    <tr>\n",
       "      <th>NMF</th>\n",
       "      <td>0.184 $\\pm$ 0.010</td>\n",
       "      <td>0.175 $\\pm$ 0.014</td>\n",
       "      <td>0.267 $\\pm$ 0.012</td>\n",
       "    </tr>\n",
       "    <tr>\n",
       "      <th>HPF</th>\n",
       "      <td>0.099 $\\pm$ 0.005</td>\n",
       "      <td>0.102 $\\pm$ 0.010</td>\n",
       "      <td>0.143 $\\pm$ 0.009</td>\n",
       "    </tr>\n",
       "    <tr>\n",
       "      <th>LDA</th>\n",
       "      <td>0.071 $\\pm$ 0.013</td>\n",
       "      <td>0.060 $\\pm$ 0.005</td>\n",
       "      <td>0.083 $\\pm$ 0.009</td>\n",
       "    </tr>\n",
       "    <tr>\n",
       "      <th>Global</th>\n",
       "      <td>0.053 $\\pm$ 0.004</td>\n",
       "      <td>0.052 $\\pm$ 0.004</td>\n",
       "      <td>0.073 $\\pm$ 0.004</td>\n",
       "    </tr>\n",
       "    <tr>\n",
       "      <th>Personal</th>\n",
       "      <td>0.366 $\\pm$ 0.026</td>\n",
       "      <td>0.333 $\\pm$ 0.035</td>\n",
       "      <td>0.441 $\\pm$ 0.034</td>\n",
       "    </tr>\n",
       "  </tbody>\n",
       "</table>\n",
       "</div>"
      ],
      "text/plain": [
       "Method                       recall@5                 precision@5  \\\n",
       "MixtureTW  \\textbf{0.389} $\\pm$ 0.029  \\textbf{0.352} $\\pm$ 0.039   \n",
       "Mixture             0.370 $\\pm$ 0.026           0.337 $\\pm$ 0.035   \n",
       "FPMC                0.355 $\\pm$ 0.026           0.321 $\\pm$ 0.034   \n",
       "NMF                 0.184 $\\pm$ 0.010           0.175 $\\pm$ 0.014   \n",
       "HPF                 0.099 $\\pm$ 0.005           0.102 $\\pm$ 0.010   \n",
       "LDA                 0.071 $\\pm$ 0.013           0.060 $\\pm$ 0.005   \n",
       "Global              0.053 $\\pm$ 0.004           0.052 $\\pm$ 0.004   \n",
       "Personal            0.366 $\\pm$ 0.026           0.333 $\\pm$ 0.035   \n",
       "\n",
       "Method                         nDCG@5  \n",
       "MixtureTW  \\textbf{0.465} $\\pm$ 0.038  \n",
       "Mixture             0.446 $\\pm$ 0.034  \n",
       "FPMC                0.414 $\\pm$ 0.034  \n",
       "NMF                 0.267 $\\pm$ 0.012  \n",
       "HPF                 0.143 $\\pm$ 0.009  \n",
       "LDA                 0.083 $\\pm$ 0.009  \n",
       "Global              0.073 $\\pm$ 0.004  \n",
       "Personal            0.441 $\\pm$ 0.034  "
      ]
     },
     "execution_count": 13,
     "metadata": {},
     "output_type": "execute_result"
    }
   ],
   "source": [
    "metrics = [u'recall@5', u'precision@5', u'nDCG@5', ]\n",
    "result = display_results(metrics=metrics)\n",
    "result\n"
   ]
  },
  {
   "cell_type": "code",
   "execution_count": 14,
   "metadata": {},
   "outputs": [],
   "source": [
    "filename = os.path.join(OUTPUT_DIR, 'table 3_all_prediction.txt')\n",
    "result.to_latex(filename, escape=False)\n"
   ]
  }
 ],
 "metadata": {
  "kernelspec": {
   "display_name": "Python 3",
   "language": "python",
   "name": "python3"
  },
  "language_info": {
   "codemirror_mode": {
    "name": "ipython",
    "version": 3
   },
   "file_extension": ".py",
   "mimetype": "text/x-python",
   "name": "python",
   "nbconvert_exporter": "python",
   "pygments_lexer": "ipython3",
   "version": "3.6.8"
  }
 },
 "nbformat": 4,
 "nbformat_minor": 2
}
